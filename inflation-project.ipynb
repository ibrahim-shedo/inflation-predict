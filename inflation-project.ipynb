{
 "cells": [
  {
   "cell_type": "markdown",
   "id": "977edbb2-66c4-42ed-a55e-f448db3b3dbc",
   "metadata": {},
   "source": [
    "# Multiple regression model  predicting infalation "
   ]
  },
  {
   "cell_type": "markdown",
   "id": "64acc6af-a33a-4060-b004-573fe41a283f",
   "metadata": {},
   "source": [
    "## Ibrahim Shedoh\n",
    "## 23/09/2024"
   ]
  },
  {
   "cell_type": "code",
   "execution_count": 59,
   "id": "6f3a4512-21ad-42f0-bb92-83de88e26ca0",
   "metadata": {},
   "outputs": [],
   "source": [
    "#importing neccessary libraries\n",
    "import pandas as pd\n",
    "import numpy as np \n",
    "import seaborn as sns\n",
    "import matplotlib.pyplot as plt"
   ]
  },
  {
   "cell_type": "code",
   "execution_count": 60,
   "id": "7559d022-ad9f-4513-a806-a7d06a243459",
   "metadata": {},
   "outputs": [],
   "source": [
    "# we will use some methods from the sklearn module\n",
    "from sklearn import linear_model\n",
    "from sklearn.linear_model import LinearRegression\n",
    "from sklearn import metrics\n",
    "from sklearn.metrics import mean_squared_error, mean_absolute_error\n",
    "from sklearn.model_selection import train_test_split, cross_val_score"
   ]
  },
  {
   "cell_type": "code",
   "execution_count": 61,
   "id": "fa18ca28-d319-4413-b89b-6733494a056a",
   "metadata": {},
   "outputs": [
    {
     "data": {
      "text/html": [
       "<div>\n",
       "<style scoped>\n",
       "    .dataframe tbody tr th:only-of-type {\n",
       "        vertical-align: middle;\n",
       "    }\n",
       "\n",
       "    .dataframe tbody tr th {\n",
       "        vertical-align: top;\n",
       "    }\n",
       "\n",
       "    .dataframe thead th {\n",
       "        text-align: right;\n",
       "    }\n",
       "</style>\n",
       "<table border=\"1\" class=\"dataframe\">\n",
       "  <thead>\n",
       "    <tr style=\"text-align: right;\">\n",
       "      <th></th>\n",
       "      <th>YEARS</th>\n",
       "      <th>ANNUAL GDP GROWTH  RATES(%)</th>\n",
       "      <th>AVARAGE ANNUAL EXCHANGE RATES (KSHS vs USD)</th>\n",
       "      <th>ANNUAL CPI RATES(%)</th>\n",
       "      <th>ANNUAL INTEREST(LENDING) RATES(%)</th>\n",
       "      <th>ANNUAL INFLATION RATES (%)</th>\n",
       "    </tr>\n",
       "  </thead>\n",
       "  <tbody>\n",
       "    <tr>\n",
       "      <th>0</th>\n",
       "      <td>1971.0</td>\n",
       "      <td>22.17</td>\n",
       "      <td>7.14</td>\n",
       "      <td>0.93</td>\n",
       "      <td>9.00</td>\n",
       "      <td>3.78</td>\n",
       "    </tr>\n",
       "    <tr>\n",
       "      <th>1</th>\n",
       "      <td>1972.0</td>\n",
       "      <td>17.08</td>\n",
       "      <td>7.14</td>\n",
       "      <td>0.98</td>\n",
       "      <td>9.00</td>\n",
       "      <td>5.83</td>\n",
       "    </tr>\n",
       "    <tr>\n",
       "      <th>2</th>\n",
       "      <td>1973.0</td>\n",
       "      <td>5.90</td>\n",
       "      <td>7.00</td>\n",
       "      <td>1.07</td>\n",
       "      <td>9.00</td>\n",
       "      <td>9.28</td>\n",
       "    </tr>\n",
       "    <tr>\n",
       "      <th>3</th>\n",
       "      <td>1974.0</td>\n",
       "      <td>4.07</td>\n",
       "      <td>7.14</td>\n",
       "      <td>1.26</td>\n",
       "      <td>9.50</td>\n",
       "      <td>17.81</td>\n",
       "    </tr>\n",
       "    <tr>\n",
       "      <th>4</th>\n",
       "      <td>1975.0</td>\n",
       "      <td>0.88</td>\n",
       "      <td>7.34</td>\n",
       "      <td>1.50</td>\n",
       "      <td>10.00</td>\n",
       "      <td>19.12</td>\n",
       "    </tr>\n",
       "    <tr>\n",
       "      <th>5</th>\n",
       "      <td>1976.0</td>\n",
       "      <td>2.15</td>\n",
       "      <td>8.37</td>\n",
       "      <td>1.68</td>\n",
       "      <td>10.00</td>\n",
       "      <td>11.45</td>\n",
       "    </tr>\n",
       "    <tr>\n",
       "      <th>6</th>\n",
       "      <td>1977.0</td>\n",
       "      <td>9.45</td>\n",
       "      <td>8.28</td>\n",
       "      <td>1.92</td>\n",
       "      <td>10.00</td>\n",
       "      <td>14.82</td>\n",
       "    </tr>\n",
       "    <tr>\n",
       "      <th>7</th>\n",
       "      <td>1978.0</td>\n",
       "      <td>6.91</td>\n",
       "      <td>7.73</td>\n",
       "      <td>2.25</td>\n",
       "      <td>10.00</td>\n",
       "      <td>16.93</td>\n",
       "    </tr>\n",
       "    <tr>\n",
       "      <th>8</th>\n",
       "      <td>1979.0</td>\n",
       "      <td>7.62</td>\n",
       "      <td>7.48</td>\n",
       "      <td>2.43</td>\n",
       "      <td>10.00</td>\n",
       "      <td>7.98</td>\n",
       "    </tr>\n",
       "    <tr>\n",
       "      <th>9</th>\n",
       "      <td>1980.0</td>\n",
       "      <td>5.59</td>\n",
       "      <td>7.42</td>\n",
       "      <td>2.77</td>\n",
       "      <td>10.58</td>\n",
       "      <td>13.86</td>\n",
       "    </tr>\n",
       "  </tbody>\n",
       "</table>\n",
       "</div>"
      ],
      "text/plain": [
       "    YEARS  ANNUAL GDP GROWTH  RATES(%)  \\\n",
       "0  1971.0                        22.17   \n",
       "1  1972.0                        17.08   \n",
       "2  1973.0                         5.90   \n",
       "3  1974.0                         4.07   \n",
       "4  1975.0                         0.88   \n",
       "5  1976.0                         2.15   \n",
       "6  1977.0                         9.45   \n",
       "7  1978.0                         6.91   \n",
       "8  1979.0                         7.62   \n",
       "9  1980.0                         5.59   \n",
       "\n",
       "   AVARAGE ANNUAL EXCHANGE RATES (KSHS vs USD)  ANNUAL CPI RATES(%)  \\\n",
       "0                                         7.14                 0.93   \n",
       "1                                         7.14                 0.98   \n",
       "2                                         7.00                 1.07   \n",
       "3                                         7.14                 1.26   \n",
       "4                                         7.34                 1.50   \n",
       "5                                         8.37                 1.68   \n",
       "6                                         8.28                 1.92   \n",
       "7                                         7.73                 2.25   \n",
       "8                                         7.48                 2.43   \n",
       "9                                         7.42                 2.77   \n",
       "\n",
       "   ANNUAL INTEREST(LENDING) RATES(%)  ANNUAL INFLATION RATES (%)  \n",
       "0                               9.00                        3.78  \n",
       "1                               9.00                        5.83  \n",
       "2                               9.00                        9.28  \n",
       "3                               9.50                       17.81  \n",
       "4                              10.00                       19.12  \n",
       "5                              10.00                       11.45  \n",
       "6                              10.00                       14.82  \n",
       "7                              10.00                       16.93  \n",
       "8                              10.00                        7.98  \n",
       "9                              10.58                       13.86  "
      ]
     },
     "execution_count": 61,
     "metadata": {},
     "output_type": "execute_result"
    }
   ],
   "source": [
    "# reading dataset\n",
    "df=pd.read_csv(\"inflation data.csv\")\n",
    "df.head(10)# head of the dataset"
   ]
  },
  {
   "cell_type": "code",
   "execution_count": 62,
   "id": "5047afb1-7fcc-491d-b45b-194903a29421",
   "metadata": {},
   "outputs": [
    {
     "data": {
      "text/html": [
       "<div>\n",
       "<style scoped>\n",
       "    .dataframe tbody tr th:only-of-type {\n",
       "        vertical-align: middle;\n",
       "    }\n",
       "\n",
       "    .dataframe tbody tr th {\n",
       "        vertical-align: top;\n",
       "    }\n",
       "\n",
       "    .dataframe thead th {\n",
       "        text-align: right;\n",
       "    }\n",
       "</style>\n",
       "<table border=\"1\" class=\"dataframe\">\n",
       "  <thead>\n",
       "    <tr style=\"text-align: right;\">\n",
       "      <th></th>\n",
       "      <th>YEARS</th>\n",
       "      <th>ANNUAL GDP GROWTH  RATES(%)</th>\n",
       "      <th>AVARAGE ANNUAL EXCHANGE RATES (KSHS vs USD)</th>\n",
       "      <th>ANNUAL CPI RATES(%)</th>\n",
       "      <th>ANNUAL INTEREST(LENDING) RATES(%)</th>\n",
       "      <th>ANNUAL INFLATION RATES (%)</th>\n",
       "    </tr>\n",
       "  </thead>\n",
       "  <tbody>\n",
       "    <tr>\n",
       "      <th>49</th>\n",
       "      <td>2020.0</td>\n",
       "      <td>-0.27</td>\n",
       "      <td>106.45</td>\n",
       "      <td>200.23</td>\n",
       "      <td>12.00</td>\n",
       "      <td>5.40</td>\n",
       "    </tr>\n",
       "    <tr>\n",
       "      <th>50</th>\n",
       "      <td>2021.0</td>\n",
       "      <td>7.59</td>\n",
       "      <td>109.64</td>\n",
       "      <td>212.47</td>\n",
       "      <td>12.08</td>\n",
       "      <td>6.11</td>\n",
       "    </tr>\n",
       "    <tr>\n",
       "      <th>51</th>\n",
       "      <td>2022.0</td>\n",
       "      <td>4.85</td>\n",
       "      <td>117.87</td>\n",
       "      <td>228.74</td>\n",
       "      <td>12.34</td>\n",
       "      <td>7.66</td>\n",
       "    </tr>\n",
       "    <tr>\n",
       "      <th>52</th>\n",
       "      <td>NaN</td>\n",
       "      <td>NaN</td>\n",
       "      <td>NaN</td>\n",
       "      <td>NaN</td>\n",
       "      <td>NaN</td>\n",
       "      <td>NaN</td>\n",
       "    </tr>\n",
       "    <tr>\n",
       "      <th>53</th>\n",
       "      <td>NaN</td>\n",
       "      <td>NaN</td>\n",
       "      <td>NaN</td>\n",
       "      <td>NaN</td>\n",
       "      <td>NaN</td>\n",
       "      <td>NaN</td>\n",
       "    </tr>\n",
       "  </tbody>\n",
       "</table>\n",
       "</div>"
      ],
      "text/plain": [
       "     YEARS  ANNUAL GDP GROWTH  RATES(%)  \\\n",
       "49  2020.0                        -0.27   \n",
       "50  2021.0                         7.59   \n",
       "51  2022.0                         4.85   \n",
       "52     NaN                          NaN   \n",
       "53     NaN                          NaN   \n",
       "\n",
       "    AVARAGE ANNUAL EXCHANGE RATES (KSHS vs USD)  ANNUAL CPI RATES(%)  \\\n",
       "49                                       106.45               200.23   \n",
       "50                                       109.64               212.47   \n",
       "51                                       117.87               228.74   \n",
       "52                                          NaN                  NaN   \n",
       "53                                          NaN                  NaN   \n",
       "\n",
       "    ANNUAL INTEREST(LENDING) RATES(%)  ANNUAL INFLATION RATES (%)  \n",
       "49                              12.00                        5.40  \n",
       "50                              12.08                        6.11  \n",
       "51                              12.34                        7.66  \n",
       "52                                NaN                         NaN  \n",
       "53                                NaN                         NaN  "
      ]
     },
     "execution_count": 62,
     "metadata": {},
     "output_type": "execute_result"
    }
   ],
   "source": [
    "#the last five row of the data\n",
    "df.tail(5)"
   ]
  },
  {
   "cell_type": "code",
   "execution_count": 63,
   "id": "6472197e-32dd-4c4b-acb9-ccb5b885df87",
   "metadata": {},
   "outputs": [],
   "source": [
    "#droping raws \n",
    "df.drop([52,53], inplace=True)"
   ]
  },
  {
   "cell_type": "code",
   "execution_count": 64,
   "id": "93625bfb-a1c2-426e-8408-0f15396698e3",
   "metadata": {},
   "outputs": [
    {
     "data": {
      "text/plain": [
       "(52, 6)"
      ]
     },
     "execution_count": 64,
     "metadata": {},
     "output_type": "execute_result"
    }
   ],
   "source": [
    " # shape of the data set\n",
    "df.shape"
   ]
  },
  {
   "cell_type": "code",
   "execution_count": 65,
   "id": "73fe1160-9e06-4098-94e6-bcdd7b35862a",
   "metadata": {},
   "outputs": [
    {
     "data": {
      "text/html": [
       "<div>\n",
       "<style scoped>\n",
       "    .dataframe tbody tr th:only-of-type {\n",
       "        vertical-align: middle;\n",
       "    }\n",
       "\n",
       "    .dataframe tbody tr th {\n",
       "        vertical-align: top;\n",
       "    }\n",
       "\n",
       "    .dataframe thead th {\n",
       "        text-align: right;\n",
       "    }\n",
       "</style>\n",
       "<table border=\"1\" class=\"dataframe\">\n",
       "  <thead>\n",
       "    <tr style=\"text-align: right;\">\n",
       "      <th></th>\n",
       "      <th>YEARS</th>\n",
       "      <th>ANNUAL GDP GROWTH  RATES(%)</th>\n",
       "      <th>AVARAGE ANNUAL EXCHANGE RATES (KSHS vs USD)</th>\n",
       "      <th>ANNUAL CPI RATES(%)</th>\n",
       "      <th>ANNUAL INTEREST(LENDING) RATES(%)</th>\n",
       "      <th>ANNUAL INFLATION RATES (%)</th>\n",
       "    </tr>\n",
       "  </thead>\n",
       "  <tbody>\n",
       "    <tr>\n",
       "      <th>YEARS</th>\n",
       "      <td>1.000000</td>\n",
       "      <td>-0.246014</td>\n",
       "      <td>0.971440</td>\n",
       "      <td>0.901297</td>\n",
       "      <td>0.170718</td>\n",
       "      <td>-0.258990</td>\n",
       "    </tr>\n",
       "    <tr>\n",
       "      <th>ANNUAL GDP GROWTH  RATES(%)</th>\n",
       "      <td>-0.246014</td>\n",
       "      <td>1.000000</td>\n",
       "      <td>-0.208775</td>\n",
       "      <td>-0.060637</td>\n",
       "      <td>-0.410359</td>\n",
       "      <td>-0.365845</td>\n",
       "    </tr>\n",
       "    <tr>\n",
       "      <th>AVARAGE ANNUAL EXCHANGE RATES (KSHS vs USD)</th>\n",
       "      <td>0.971440</td>\n",
       "      <td>-0.208775</td>\n",
       "      <td>1.000000</td>\n",
       "      <td>0.880911</td>\n",
       "      <td>0.215479</td>\n",
       "      <td>-0.267219</td>\n",
       "    </tr>\n",
       "    <tr>\n",
       "      <th>ANNUAL CPI RATES(%)</th>\n",
       "      <td>0.901297</td>\n",
       "      <td>-0.060637</td>\n",
       "      <td>0.880911</td>\n",
       "      <td>1.000000</td>\n",
       "      <td>-0.099706</td>\n",
       "      <td>-0.326981</td>\n",
       "    </tr>\n",
       "    <tr>\n",
       "      <th>ANNUAL INTEREST(LENDING) RATES(%)</th>\n",
       "      <td>0.170718</td>\n",
       "      <td>-0.410359</td>\n",
       "      <td>0.215479</td>\n",
       "      <td>-0.099706</td>\n",
       "      <td>1.000000</td>\n",
       "      <td>0.261539</td>\n",
       "    </tr>\n",
       "    <tr>\n",
       "      <th>ANNUAL INFLATION RATES (%)</th>\n",
       "      <td>-0.258990</td>\n",
       "      <td>-0.365845</td>\n",
       "      <td>-0.267219</td>\n",
       "      <td>-0.326981</td>\n",
       "      <td>0.261539</td>\n",
       "      <td>1.000000</td>\n",
       "    </tr>\n",
       "  </tbody>\n",
       "</table>\n",
       "</div>"
      ],
      "text/plain": [
       "                                                YEARS  \\\n",
       "YEARS                                        1.000000   \n",
       "ANNUAL GDP GROWTH  RATES(%)                 -0.246014   \n",
       "AVARAGE ANNUAL EXCHANGE RATES (KSHS vs USD)  0.971440   \n",
       "ANNUAL CPI RATES(%)                          0.901297   \n",
       "ANNUAL INTEREST(LENDING) RATES(%)            0.170718   \n",
       "ANNUAL INFLATION RATES (%)                  -0.258990   \n",
       "\n",
       "                                             ANNUAL GDP GROWTH  RATES(%)  \\\n",
       "YEARS                                                          -0.246014   \n",
       "ANNUAL GDP GROWTH  RATES(%)                                     1.000000   \n",
       "AVARAGE ANNUAL EXCHANGE RATES (KSHS vs USD)                    -0.208775   \n",
       "ANNUAL CPI RATES(%)                                            -0.060637   \n",
       "ANNUAL INTEREST(LENDING) RATES(%)                              -0.410359   \n",
       "ANNUAL INFLATION RATES (%)                                     -0.365845   \n",
       "\n",
       "                                             AVARAGE ANNUAL EXCHANGE RATES (KSHS vs USD)  \\\n",
       "YEARS                                                                           0.971440   \n",
       "ANNUAL GDP GROWTH  RATES(%)                                                    -0.208775   \n",
       "AVARAGE ANNUAL EXCHANGE RATES (KSHS vs USD)                                     1.000000   \n",
       "ANNUAL CPI RATES(%)                                                             0.880911   \n",
       "ANNUAL INTEREST(LENDING) RATES(%)                                               0.215479   \n",
       "ANNUAL INFLATION RATES (%)                                                     -0.267219   \n",
       "\n",
       "                                             ANNUAL CPI RATES(%)  \\\n",
       "YEARS                                                   0.901297   \n",
       "ANNUAL GDP GROWTH  RATES(%)                            -0.060637   \n",
       "AVARAGE ANNUAL EXCHANGE RATES (KSHS vs USD)             0.880911   \n",
       "ANNUAL CPI RATES(%)                                     1.000000   \n",
       "ANNUAL INTEREST(LENDING) RATES(%)                      -0.099706   \n",
       "ANNUAL INFLATION RATES (%)                             -0.326981   \n",
       "\n",
       "                                             ANNUAL INTEREST(LENDING) RATES(%)  \\\n",
       "YEARS                                                                 0.170718   \n",
       "ANNUAL GDP GROWTH  RATES(%)                                          -0.410359   \n",
       "AVARAGE ANNUAL EXCHANGE RATES (KSHS vs USD)                           0.215479   \n",
       "ANNUAL CPI RATES(%)                                                  -0.099706   \n",
       "ANNUAL INTEREST(LENDING) RATES(%)                                     1.000000   \n",
       "ANNUAL INFLATION RATES (%)                                            0.261539   \n",
       "\n",
       "                                             ANNUAL INFLATION RATES (%)  \n",
       "YEARS                                                         -0.258990  \n",
       "ANNUAL GDP GROWTH  RATES(%)                                   -0.365845  \n",
       "AVARAGE ANNUAL EXCHANGE RATES (KSHS vs USD)                   -0.267219  \n",
       "ANNUAL CPI RATES(%)                                           -0.326981  \n",
       "ANNUAL INTEREST(LENDING) RATES(%)                              0.261539  \n",
       "ANNUAL INFLATION RATES (%)                                     1.000000  "
      ]
     },
     "execution_count": 65,
     "metadata": {},
     "output_type": "execute_result"
    }
   ],
   "source": [
    " # correlation of the data set\n",
    "df.corr()"
   ]
  },
  {
   "cell_type": "code",
   "execution_count": 66,
   "id": "62b6a723-36d3-4b2e-ad7d-0120a95bd997",
   "metadata": {},
   "outputs": [
    {
     "data": {
      "text/html": [
       "<div>\n",
       "<style scoped>\n",
       "    .dataframe tbody tr th:only-of-type {\n",
       "        vertical-align: middle;\n",
       "    }\n",
       "\n",
       "    .dataframe tbody tr th {\n",
       "        vertical-align: top;\n",
       "    }\n",
       "\n",
       "    .dataframe thead th {\n",
       "        text-align: right;\n",
       "    }\n",
       "</style>\n",
       "<table border=\"1\" class=\"dataframe\">\n",
       "  <thead>\n",
       "    <tr style=\"text-align: right;\">\n",
       "      <th></th>\n",
       "      <th>YEARS</th>\n",
       "      <th>ANNUAL GDP GROWTH  RATES(%)</th>\n",
       "      <th>AVARAGE ANNUAL EXCHANGE RATES (KSHS vs USD)</th>\n",
       "      <th>ANNUAL CPI RATES(%)</th>\n",
       "      <th>ANNUAL INTEREST(LENDING) RATES(%)</th>\n",
       "      <th>ANNUAL INFLATION RATES (%)</th>\n",
       "    </tr>\n",
       "  </thead>\n",
       "  <tbody>\n",
       "    <tr>\n",
       "      <th>count</th>\n",
       "      <td>52.000000</td>\n",
       "      <td>52.000000</td>\n",
       "      <td>52.000000</td>\n",
       "      <td>52.000000</td>\n",
       "      <td>52.000000</td>\n",
       "      <td>52.000000</td>\n",
       "    </tr>\n",
       "    <tr>\n",
       "      <th>mean</th>\n",
       "      <td>1996.500000</td>\n",
       "      <td>4.599423</td>\n",
       "      <td>52.343654</td>\n",
       "      <td>57.376538</td>\n",
       "      <td>16.301923</td>\n",
       "      <td>11.505962</td>\n",
       "    </tr>\n",
       "    <tr>\n",
       "      <th>std</th>\n",
       "      <td>15.154757</td>\n",
       "      <td>3.875853</td>\n",
       "      <td>36.625405</td>\n",
       "      <td>67.618047</td>\n",
       "      <td>6.524063</td>\n",
       "      <td>7.880084</td>\n",
       "    </tr>\n",
       "    <tr>\n",
       "      <th>min</th>\n",
       "      <td>1971.000000</td>\n",
       "      <td>-0.800000</td>\n",
       "      <td>7.000000</td>\n",
       "      <td>0.930000</td>\n",
       "      <td>9.000000</td>\n",
       "      <td>1.550000</td>\n",
       "    </tr>\n",
       "    <tr>\n",
       "      <th>25%</th>\n",
       "      <td>1983.750000</td>\n",
       "      <td>2.270000</td>\n",
       "      <td>14.135000</td>\n",
       "      <td>4.472500</td>\n",
       "      <td>12.400000</td>\n",
       "      <td>6.252500</td>\n",
       "    </tr>\n",
       "    <tr>\n",
       "      <th>50%</th>\n",
       "      <td>1996.500000</td>\n",
       "      <td>4.255000</td>\n",
       "      <td>58.365000</td>\n",
       "      <td>29.125000</td>\n",
       "      <td>14.395000</td>\n",
       "      <td>9.790000</td>\n",
       "    </tr>\n",
       "    <tr>\n",
       "      <th>75%</th>\n",
       "      <td>2009.250000</td>\n",
       "      <td>5.902500</td>\n",
       "      <td>79.185000</td>\n",
       "      <td>97.142500</td>\n",
       "      <td>18.525000</td>\n",
       "      <td>13.900000</td>\n",
       "    </tr>\n",
       "    <tr>\n",
       "      <th>max</th>\n",
       "      <td>2022.000000</td>\n",
       "      <td>22.170000</td>\n",
       "      <td>117.870000</td>\n",
       "      <td>228.740000</td>\n",
       "      <td>36.240000</td>\n",
       "      <td>45.980000</td>\n",
       "    </tr>\n",
       "  </tbody>\n",
       "</table>\n",
       "</div>"
      ],
      "text/plain": [
       "             YEARS  ANNUAL GDP GROWTH  RATES(%)  \\\n",
       "count    52.000000                    52.000000   \n",
       "mean   1996.500000                     4.599423   \n",
       "std      15.154757                     3.875853   \n",
       "min    1971.000000                    -0.800000   \n",
       "25%    1983.750000                     2.270000   \n",
       "50%    1996.500000                     4.255000   \n",
       "75%    2009.250000                     5.902500   \n",
       "max    2022.000000                    22.170000   \n",
       "\n",
       "       AVARAGE ANNUAL EXCHANGE RATES (KSHS vs USD)  ANNUAL CPI RATES(%)  \\\n",
       "count                                    52.000000            52.000000   \n",
       "mean                                     52.343654            57.376538   \n",
       "std                                      36.625405            67.618047   \n",
       "min                                       7.000000             0.930000   \n",
       "25%                                      14.135000             4.472500   \n",
       "50%                                      58.365000            29.125000   \n",
       "75%                                      79.185000            97.142500   \n",
       "max                                     117.870000           228.740000   \n",
       "\n",
       "       ANNUAL INTEREST(LENDING) RATES(%)  ANNUAL INFLATION RATES (%)  \n",
       "count                          52.000000                   52.000000  \n",
       "mean                           16.301923                   11.505962  \n",
       "std                             6.524063                    7.880084  \n",
       "min                             9.000000                    1.550000  \n",
       "25%                            12.400000                    6.252500  \n",
       "50%                            14.395000                    9.790000  \n",
       "75%                            18.525000                   13.900000  \n",
       "max                            36.240000                   45.980000  "
      ]
     },
     "execution_count": 66,
     "metadata": {},
     "output_type": "execute_result"
    }
   ],
   "source": [
    "#the description of the dataset \n",
    "df.describe()"
   ]
  },
  {
   "cell_type": "code",
   "execution_count": 67,
   "id": "8f0c78d8-4a89-49dc-8e22-1f49261b05d3",
   "metadata": {},
   "outputs": [
    {
     "data": {
      "text/html": [
       "<div>\n",
       "<style scoped>\n",
       "    .dataframe tbody tr th:only-of-type {\n",
       "        vertical-align: middle;\n",
       "    }\n",
       "\n",
       "    .dataframe tbody tr th {\n",
       "        vertical-align: top;\n",
       "    }\n",
       "\n",
       "    .dataframe thead th {\n",
       "        text-align: right;\n",
       "    }\n",
       "</style>\n",
       "<table border=\"1\" class=\"dataframe\">\n",
       "  <thead>\n",
       "    <tr style=\"text-align: right;\">\n",
       "      <th></th>\n",
       "      <th>YEARS</th>\n",
       "      <th>Growth_Rates</th>\n",
       "      <th>Exchange_Rates</th>\n",
       "      <th>CPI_Rates</th>\n",
       "      <th>Lending_rates</th>\n",
       "      <th>Inflation_rates</th>\n",
       "    </tr>\n",
       "  </thead>\n",
       "  <tbody>\n",
       "    <tr>\n",
       "      <th>0</th>\n",
       "      <td>1971.0</td>\n",
       "      <td>22.17</td>\n",
       "      <td>7.14</td>\n",
       "      <td>0.93</td>\n",
       "      <td>9.0</td>\n",
       "      <td>3.78</td>\n",
       "    </tr>\n",
       "    <tr>\n",
       "      <th>1</th>\n",
       "      <td>1972.0</td>\n",
       "      <td>17.08</td>\n",
       "      <td>7.14</td>\n",
       "      <td>0.98</td>\n",
       "      <td>9.0</td>\n",
       "      <td>5.83</td>\n",
       "    </tr>\n",
       "    <tr>\n",
       "      <th>2</th>\n",
       "      <td>1973.0</td>\n",
       "      <td>5.90</td>\n",
       "      <td>7.00</td>\n",
       "      <td>1.07</td>\n",
       "      <td>9.0</td>\n",
       "      <td>9.28</td>\n",
       "    </tr>\n",
       "    <tr>\n",
       "      <th>3</th>\n",
       "      <td>1974.0</td>\n",
       "      <td>4.07</td>\n",
       "      <td>7.14</td>\n",
       "      <td>1.26</td>\n",
       "      <td>9.5</td>\n",
       "      <td>17.81</td>\n",
       "    </tr>\n",
       "    <tr>\n",
       "      <th>4</th>\n",
       "      <td>1975.0</td>\n",
       "      <td>0.88</td>\n",
       "      <td>7.34</td>\n",
       "      <td>1.50</td>\n",
       "      <td>10.0</td>\n",
       "      <td>19.12</td>\n",
       "    </tr>\n",
       "  </tbody>\n",
       "</table>\n",
       "</div>"
      ],
      "text/plain": [
       "    YEARS  Growth_Rates  Exchange_Rates  CPI_Rates  Lending_rates  \\\n",
       "0  1971.0         22.17            7.14       0.93            9.0   \n",
       "1  1972.0         17.08            7.14       0.98            9.0   \n",
       "2  1973.0          5.90            7.00       1.07            9.0   \n",
       "3  1974.0          4.07            7.14       1.26            9.5   \n",
       "4  1975.0          0.88            7.34       1.50           10.0   \n",
       "\n",
       "   Inflation_rates  \n",
       "0             3.78  \n",
       "1             5.83  \n",
       "2             9.28  \n",
       "3            17.81  \n",
       "4            19.12  "
      ]
     },
     "execution_count": 67,
     "metadata": {},
     "output_type": "execute_result"
    }
   ],
   "source": [
    "# renaming column name\n",
    "df.rename(columns={df.columns[1]:'Growth_Rates', df.columns[2]:'Exchange_Rates',df.columns[3]:'CPI_Rates',df.columns[4]:'Lending_rates',df.columns[5]:'Inflation_rates'}, inplace=True)\n",
    "df.head()"
   ]
  },
  {
   "cell_type": "code",
   "execution_count": 68,
   "id": "1f88270b-d641-492b-84db-e742321c6379",
   "metadata": {},
   "outputs": [
    {
     "data": {
      "text/plain": [
       "YEARS              0\n",
       "Growth_Rates       0\n",
       "Exchange_Rates     0\n",
       "CPI_Rates          0\n",
       "Lending_rates      0\n",
       "Inflation_rates    0\n",
       "dtype: int64"
      ]
     },
     "execution_count": 68,
     "metadata": {},
     "output_type": "execute_result"
    }
   ],
   "source": [
    "# missing vales \n",
    "df.isnull().sum()"
   ]
  },
  {
   "cell_type": "code",
   "execution_count": 69,
   "id": "f47a0384-6fd2-45c3-8c8e-000897ffc132",
   "metadata": {},
   "outputs": [
    {
     "data": {
      "text/plain": [
       "YEARS              0.0\n",
       "Growth_Rates       0.0\n",
       "Exchange_Rates     0.0\n",
       "CPI_Rates          0.0\n",
       "Lending_rates      0.0\n",
       "Inflation_rates    0.0\n",
       "dtype: float64"
      ]
     },
     "execution_count": 69,
     "metadata": {},
     "output_type": "execute_result"
    }
   ],
   "source": [
    "# % of missing values\n",
    "df.isnull().sum()/df.shape[0]*100"
   ]
  },
  {
   "cell_type": "code",
   "execution_count": 70,
   "id": "d492a624-08c1-4b9b-8d0f-6b766bfaacee",
   "metadata": {},
   "outputs": [
    {
     "data": {
      "text/plain": [
       "0"
      ]
     },
     "execution_count": 70,
     "metadata": {},
     "output_type": "execute_result"
    }
   ],
   "source": [
    "# duplictes in the dataset\n",
    "df.duplicated().sum()"
   ]
  },
  {
   "cell_type": "code",
   "execution_count": 71,
   "id": "c1e756e0-261c-4682-b142-399fcbc6e08c",
   "metadata": {},
   "outputs": [
    {
     "data": {
      "text/plain": [
       "array([[<Axes: title={'center': 'YEARS'}>,\n",
       "        <Axes: title={'center': 'Growth_Rates'}>],\n",
       "       [<Axes: title={'center': 'Exchange_Rates'}>,\n",
       "        <Axes: title={'center': 'CPI_Rates'}>],\n",
       "       [<Axes: title={'center': 'Lending_rates'}>,\n",
       "        <Axes: title={'center': 'Inflation_rates'}>]], dtype=object)"
      ]
     },
     "execution_count": 71,
     "metadata": {},
     "output_type": "execute_result"
    },
    {
     "data": {
      "image/png": "[encoded data removed]",
      "text/plain": [
       "<Figure size 640x480 with 6 Axes>"
      ]
     },
     "metadata": {},
     "output_type": "display_data"
    }
   ],
   "source": [
    "## EDA\n",
    "# histogram\n",
    "df.hist()"
   ]
  },
  {
   "cell_type": "markdown",
   "id": "be3baec8-e4fd-427e-a3c7-5ffb2c226c62",
   "metadata": {},
   "source": [
    "## Model Building "
   ]
  },
  {
   "cell_type": "code",
   "execution_count": 72,
   "id": "9c30d4ea-e519-46bb-be87-fa1ace3bd283",
   "metadata": {},
   "outputs": [],
   "source": [
    "# selecting variables \n",
    "X=df[['Growth_Rates','Exchange_Rates','CPI_Rates','Lending_rates']]\n",
    "y=df['Inflation_rates']"
   ]
  },
  {
   "cell_type": "code",
   "execution_count": 73,
   "id": "f5d07b90-fc7c-4928-9465-f5af628a453a",
   "metadata": {},
   "outputs": [],
   "source": [
    "# splitting dataset into traing and test \n",
    "X_train,X_test, y_train, y_test= train_test_split(X,y, test_size=0.2, random_state=100)"
   ]
  },
  {
   "cell_type": "code",
   "execution_count": 74,
   "id": "cf68b5d4-f83f-44cf-b413-d9155e86b471",
   "metadata": {},
   "outputs": [
    {
     "data": {
      "text/plain": [
       "(11,)"
      ]
     },
     "execution_count": 74,
     "metadata": {},
     "output_type": "execute_result"
    }
   ],
   "source": [
    "y_test.shape"
   ]
  },
  {
   "cell_type": "code",
   "execution_count": 75,
   "id": "5a3f50ca-0a6b-481b-8529-13744ec963a5",
   "metadata": {},
   "outputs": [
    {
     "data": {
      "text/plain": [
       "(41, 4)"
      ]
     },
     "execution_count": 75,
     "metadata": {},
     "output_type": "execute_result"
    }
   ],
   "source": [
    "X_train.shape"
   ]
  },
  {
   "cell_type": "code",
   "execution_count": 76,
   "id": "cbbb39ff-b04a-4ac4-8354-0629289b033f",
   "metadata": {},
   "outputs": [],
   "source": [
    "# regression model function\n",
    "rml=linear_model.LinearRegression()"
   ]
  },
  {
   "cell_type": "code",
   "execution_count": 77,
   "id": "d1f41d5f-e9b2-483a-b676-954febe07807",
   "metadata": {},
   "outputs": [],
   "source": [
    "# fitting the mlrm\n",
    "rml=linear_model.LinearRegression().fit(X_train, y_train)"
   ]
  },
  {
   "cell_type": "code",
   "execution_count": 78,
   "id": "aa814ade-121c-49a9-a28f-b7ff69558a1a",
   "metadata": {},
   "outputs": [
    {
     "data": {
      "text/plain": [
       "12.538005794721201"
      ]
     },
     "execution_count": 78,
     "metadata": {},
     "output_type": "execute_result"
    }
   ],
   "source": [
    "#intercept\n",
    "rml.intercept_"
   ]
  },
  {
   "cell_type": "code",
   "execution_count": 79,
   "id": "d4f4e657-6275-48ac-9547-b221fbee1914",
   "metadata": {},
   "outputs": [
    {
     "data": {
      "text/plain": [
       "[('Growth_Rates', -0.776881032050755),\n",
       " ('Exchange_Rates', -0.16793117537246557),\n",
       " ('CPI_Rates', 0.04244579673321747),\n",
       " ('Lending_rates', 0.5458852040760552)]"
      ]
     },
     "execution_count": 79,
     "metadata": {},
     "output_type": "execute_result"
    }
   ],
   "source": [
    "# coeffients\n",
    "list(zip(X, rml.coef_))"
   ]
  },
  {
   "cell_type": "markdown",
   "id": "663fd897-f3ad-47de-a8d5-2eb27ab79212",
   "metadata": {},
   "source": [
    "### predictions"
   ]
  },
  {
   "cell_type": "code",
   "execution_count": 80,
   "id": "930c8882-b9c0-4aeb-a4e5-d448f4d95b75",
   "metadata": {},
   "outputs": [
    {
     "name": "stdout",
     "output_type": "stream",
     "text": [
      "Prediction for test set: [ 9.34635788  8.46824972  9.13901537  5.54705234  4.25746439  5.42136011\n",
      " 14.99228862 20.12596271 19.33866729  8.03865278  6.29508309]\n"
     ]
    }
   ],
   "source": [
    "#Predicting the Test and Train set result \n",
    "y_pred= rml.predict(X_test)  \n",
    "x_pred= rml.predict(X_train) \n",
    "print(\"Prediction for test set: {}\".format(y_pred))"
   ]
  },
  {
   "cell_type": "code",
   "execution_count": 81,
   "id": "43dc89d4-59fa-4270-98ba-8371a91d8720",
   "metadata": {},
   "outputs": [
    {
     "data": {
      "text/html": [
       "<div>\n",
       "<style scoped>\n",
       "    .dataframe tbody tr th:only-of-type {\n",
       "        vertical-align: middle;\n",
       "    }\n",
       "\n",
       "    .dataframe tbody tr th {\n",
       "        vertical-align: top;\n",
       "    }\n",
       "\n",
       "    .dataframe thead th {\n",
       "        text-align: right;\n",
       "    }\n",
       "</style>\n",
       "<table border=\"1\" class=\"dataframe\">\n",
       "  <thead>\n",
       "    <tr style=\"text-align: right;\">\n",
       "      <th></th>\n",
       "      <th>Actual value</th>\n",
       "      <th>Predicted value</th>\n",
       "    </tr>\n",
       "  </thead>\n",
       "  <tbody>\n",
       "    <tr>\n",
       "      <th>6</th>\n",
       "      <td>14.82</td>\n",
       "      <td>9.346358</td>\n",
       "    </tr>\n",
       "    <tr>\n",
       "      <th>32</th>\n",
       "      <td>9.82</td>\n",
       "      <td>8.468250</td>\n",
       "    </tr>\n",
       "    <tr>\n",
       "      <th>38</th>\n",
       "      <td>9.23</td>\n",
       "      <td>9.139015</td>\n",
       "    </tr>\n",
       "    <tr>\n",
       "      <th>35</th>\n",
       "      <td>14.45</td>\n",
       "      <td>5.547052</td>\n",
       "    </tr>\n",
       "    <tr>\n",
       "      <th>33</th>\n",
       "      <td>11.62</td>\n",
       "      <td>4.257464</td>\n",
       "    </tr>\n",
       "    <tr>\n",
       "      <th>51</th>\n",
       "      <td>7.66</td>\n",
       "      <td>5.421360</td>\n",
       "    </tr>\n",
       "    <tr>\n",
       "      <th>5</th>\n",
       "      <td>11.45</td>\n",
       "      <td>14.992289</td>\n",
       "    </tr>\n",
       "    <tr>\n",
       "      <th>26</th>\n",
       "      <td>11.36</td>\n",
       "      <td>20.125963</td>\n",
       "    </tr>\n",
       "    <tr>\n",
       "      <th>25</th>\n",
       "      <td>8.86</td>\n",
       "      <td>19.338667</td>\n",
       "    </tr>\n",
       "    <tr>\n",
       "      <th>45</th>\n",
       "      <td>6.30</td>\n",
       "      <td>8.038653</td>\n",
       "    </tr>\n",
       "    <tr>\n",
       "      <th>48</th>\n",
       "      <td>5.24</td>\n",
       "      <td>6.295083</td>\n",
       "    </tr>\n",
       "  </tbody>\n",
       "</table>\n",
       "</div>"
      ],
      "text/plain": [
       "    Actual value  Predicted value\n",
       "6          14.82         9.346358\n",
       "32          9.82         8.468250\n",
       "38          9.23         9.139015\n",
       "35         14.45         5.547052\n",
       "33         11.62         4.257464\n",
       "51          7.66         5.421360\n",
       "5          11.45        14.992289\n",
       "26         11.36        20.125963\n",
       "25          8.86        19.338667\n",
       "45          6.30         8.038653\n",
       "48          5.24         6.295083"
      ]
     },
     "execution_count": 81,
     "metadata": {},
     "output_type": "execute_result"
    }
   ],
   "source": [
    "#Actual value and the predicted value\n",
    "reg_model_diff = pd.DataFrame({'Actual value': y_test, 'Predicted value': y_pred})\n",
    "reg_model_diff"
   ]
  },
  {
   "cell_type": "code",
   "execution_count": 82,
   "id": "6f03a4dd-a8a6-43c2-ab50-b0a4a8d4effc",
   "metadata": {},
   "outputs": [
    {
     "name": "stdout",
     "output_type": "stream",
     "text": [
      "Mean Absolute Error: 4.636468605949198\n"
     ]
    }
   ],
   "source": [
    "# mean absolute error\n",
    "mae = metrics.mean_absolute_error(y_test, y_pred)\n",
    "print('Mean Absolute Error:', mae)"
   ]
  },
  {
   "cell_type": "code",
   "execution_count": 83,
   "id": "88552377-2fb5-47e4-8644-4b08bf1ec862",
   "metadata": {},
   "outputs": [
    {
     "name": "stdout",
     "output_type": "stream",
     "text": [
      "Mean Square Error: 33.96415218557568\n"
     ]
    }
   ],
   "source": [
    "# mean squared error\n",
    "mse = metrics.mean_squared_error(y_test, y_pred)\n",
    "print('Mean Square Error:', mse)"
   ]
  },
  {
   "cell_type": "code",
   "execution_count": 84,
   "id": "97c02627-755c-4626-9223-fda3d41fec25",
   "metadata": {},
   "outputs": [
    {
     "name": "stdout",
     "output_type": "stream",
     "text": [
      "Root Mean Square Error: 5.827877159444567\n"
     ]
    },
    {
     "data": {
      "text/plain": [
       "Index(['YEARS', 'Growth_Rates', 'Exchange_Rates', 'CPI_Rates', 'Lending_rates',\n",
       "       'Inflation_rates'],\n",
       "      dtype='object')"
      ]
     },
     "execution_count": 84,
     "metadata": {},
     "output_type": "execute_result"
    }
   ],
   "source": [
    "# R squared\n",
    "r2 = np.sqrt(metrics.mean_squared_error(y_test, y_pred))\n",
    "print('Root Mean Square Error:', r2)\n",
    "df.columns"
   ]
  },
  {
   "cell_type": "code",
   "execution_count": 86,
   "id": "2f26e505-a447-4c69-9f3e-1fb9754c1a9c",
   "metadata": {},
   "outputs": [
    {
     "name": "stdin",
     "output_type": "stream",
     "text": [
      "Enter the the the growth rate:  6\n",
      "Enter the exchange rate:  8\n",
      "Enter the CPI:  4\n",
      "Enter the lending rates 3\n"
     ]
    },
    {
     "name": "stdout",
     "output_type": "stream",
     "text": [
      "The annual inflation rate is :  8.388505\n"
     ]
    }
   ],
   "source": [
    "# Get input from the user\n",
    "Growth_Rates= float(input(\"Enter the the the growth rate: \"))  # Convert to float for consistency\n",
    "Exchange_Rates = float(input(\"Enter the exchange rate: \"))\n",
    "CPI_Rates = float(input(\"Enter the CPI: \"))\n",
    "Lending_rates= float(input(\"Enter the lending rates\"))\n",
    "\n",
    "# Create a dictionary with input values\n",
    "input_data = {\n",
    "    'Growth_Rates': [Growth_Rates],\n",
    "    'Exchange_Rates': [Exchange_Rates],\n",
    "    'CPI_Rates': [CPI_Rates],\n",
    "    'Lending_rates': [Lending_rates]\n",
    "}\n",
    "\n",
    "# Convert the dictionary to a DataFrame and then access the values\n",
    "input_df = pd.DataFrame.from_dict(input_data)\n",
    "\n",
    "# Predict using the model\n",
    "model=12.538-(0.76881*Growth_Rates)-(0.1679*Exchange_Rates)+(0.04225*CPI_Rates)+(0.545855*Lending_rates)\n",
    "print(\"The annual inflation rate is : \",model)\n",
    "\n",
    "\n",
    "\n"
   ]
  },
  {
   "cell_type": "code",
   "execution_count": null,
   "id": "e33abf4d-72e6-4d8f-a945-f5734b648502",
   "metadata": {},
   "outputs": [],
   "source": []
  }
 ],
 "metadata": {
  "kernelspec": {
   "display_name": "Python 3 (ipykernel)",
   "language": "python",
   "name": "python3"
  },
  "language_info": {
   "codemirror_mode": {
    "name": "ipython",
    "version": 3
   },
   "file_extension": ".py",
   "mimetype": "text/x-python",
   "name": "python",
   "nbconvert_exporter": "python",
   "pygments_lexer": "ipython3",
   "version": "3.12.4"
  }
 },
 "nbformat": 4,
 "nbformat_minor": 5
}
